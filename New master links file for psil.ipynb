{
 "cells": [
  {
   "cell_type": "code",
   "execution_count": 1,
   "id": "89538481-46a3-42ed-995d-66b7c0941a7d",
   "metadata": {},
   "outputs": [],
   "source": [
    "import os \n",
    "import pandas as pd"
   ]
  },
  {
   "cell_type": "code",
   "execution_count": 5,
   "id": "ef26ca58-7d91-4a5a-8a55-f9b84cd92997",
   "metadata": {},
   "outputs": [],
   "source": [
    "df_container = []\n",
    "for i in os.listdir('/Users/tariromashongamhende/Downloads/'):\n",
    "    if \"link\" in i:\n",
    "        df = pd.read_parquet(f'/Users/tariromashongamhende/Downloads/{i}')\n",
    "        df_container.append(df)\n",
    "agg_df = pd.concat(df_container)"
   ]
  },
  {
   "cell_type": "code",
   "execution_count": 6,
   "id": "1e8cb76b-617c-4ed8-96e1-3ed6c954d1bc",
   "metadata": {},
   "outputs": [
    {
     "data": {
      "text/html": [
       "<div>\n",
       "<style scoped>\n",
       "    .dataframe tbody tr th:only-of-type {\n",
       "        vertical-align: middle;\n",
       "    }\n",
       "\n",
       "    .dataframe tbody tr th {\n",
       "        vertical-align: top;\n",
       "    }\n",
       "\n",
       "    .dataframe thead th {\n",
       "        text-align: right;\n",
       "    }\n",
       "</style>\n",
       "<table border=\"1\" class=\"dataframe\">\n",
       "  <thead>\n",
       "    <tr style=\"text-align: right;\">\n",
       "      <th></th>\n",
       "      <th>song_links</th>\n",
       "      <th>song_len_seconds</th>\n",
       "      <th>song_len_mins</th>\n",
       "      <th>song_name</th>\n",
       "    </tr>\n",
       "  </thead>\n",
       "  <tbody>\n",
       "    <tr>\n",
       "      <th>0</th>\n",
       "      <td>https://www.youtube.com/watch?v=-V-sywKOCwQ</td>\n",
       "      <td>151</td>\n",
       "      <td>2.516667</td>\n",
       "      <td>Si No Quieres No</td>\n",
       "    </tr>\n",
       "    <tr>\n",
       "      <th>1</th>\n",
       "      <td>https://www.youtube.com/watch?v=Vr1M_l-1wjc</td>\n",
       "      <td>173</td>\n",
       "      <td>2.883333</td>\n",
       "      <td>EL AMOR DE SU VIDA</td>\n",
       "    </tr>\n",
       "    <tr>\n",
       "      <th>2</th>\n",
       "      <td>https://www.youtube.com/watch?v=-r687V8yqKY</td>\n",
       "      <td>216</td>\n",
       "      <td>3.600000</td>\n",
       "      <td>Gata Only</td>\n",
       "    </tr>\n",
       "    <tr>\n",
       "      <th>3</th>\n",
       "      <td>https://www.youtube.com/watch?v=-RjwFR6H7_w</td>\n",
       "      <td>186</td>\n",
       "      <td>3.100000</td>\n",
       "      <td>Regalo de Dios</td>\n",
       "    </tr>\n",
       "    <tr>\n",
       "      <th>4</th>\n",
       "      <td>https://www.youtube.com/watch?v=HfzbN5ky5Co</td>\n",
       "      <td>172</td>\n",
       "      <td>2.866667</td>\n",
       "      <td>La Diabla</td>\n",
       "    </tr>\n",
       "    <tr>\n",
       "      <th>...</th>\n",
       "      <td>...</td>\n",
       "      <td>...</td>\n",
       "      <td>...</td>\n",
       "      <td>...</td>\n",
       "    </tr>\n",
       "    <tr>\n",
       "      <th>94</th>\n",
       "      <td>https://www.youtube.com/watch?v=1zXZX9Hy6Vk</td>\n",
       "      <td>178</td>\n",
       "      <td>2.966667</td>\n",
       "      <td>Love seeker</td>\n",
       "    </tr>\n",
       "    <tr>\n",
       "      <th>95</th>\n",
       "      <td>https://www.youtube.com/watch?v=W3YfiVGSbus</td>\n",
       "      <td>318</td>\n",
       "      <td>5.300000</td>\n",
       "      <td>FREEDOM</td>\n",
       "    </tr>\n",
       "    <tr>\n",
       "      <th>96</th>\n",
       "      <td>https://www.youtube.com/watch?v=4N49vuFi09U</td>\n",
       "      <td>235</td>\n",
       "      <td>3.916667</td>\n",
       "      <td>SWEET NONFICTION</td>\n",
       "    </tr>\n",
       "    <tr>\n",
       "      <th>97</th>\n",
       "      <td>https://www.youtube.com/watch?v=Fl0H_RGsbaI</td>\n",
       "      <td>226</td>\n",
       "      <td>3.766667</td>\n",
       "      <td>offering sake</td>\n",
       "    </tr>\n",
       "    <tr>\n",
       "      <th>98</th>\n",
       "      <td>https://www.youtube.com/watch?v=SE05iCw3qY8</td>\n",
       "      <td>176</td>\n",
       "      <td>2.933333</td>\n",
       "      <td>Lose My Breath</td>\n",
       "    </tr>\n",
       "  </tbody>\n",
       "</table>\n",
       "<p>1885 rows × 4 columns</p>\n",
       "</div>"
      ],
      "text/plain": [
       "                                     song_links  song_len_seconds  \\\n",
       "0   https://www.youtube.com/watch?v=-V-sywKOCwQ               151   \n",
       "1   https://www.youtube.com/watch?v=Vr1M_l-1wjc               173   \n",
       "2   https://www.youtube.com/watch?v=-r687V8yqKY               216   \n",
       "3   https://www.youtube.com/watch?v=-RjwFR6H7_w               186   \n",
       "4   https://www.youtube.com/watch?v=HfzbN5ky5Co               172   \n",
       "..                                          ...               ...   \n",
       "94  https://www.youtube.com/watch?v=1zXZX9Hy6Vk               178   \n",
       "95  https://www.youtube.com/watch?v=W3YfiVGSbus               318   \n",
       "96  https://www.youtube.com/watch?v=4N49vuFi09U               235   \n",
       "97  https://www.youtube.com/watch?v=Fl0H_RGsbaI               226   \n",
       "98  https://www.youtube.com/watch?v=SE05iCw3qY8               176   \n",
       "\n",
       "    song_len_mins           song_name  \n",
       "0        2.516667    Si No Quieres No  \n",
       "1        2.883333  EL AMOR DE SU VIDA  \n",
       "2        3.600000           Gata Only  \n",
       "3        3.100000      Regalo de Dios  \n",
       "4        2.866667           La Diabla  \n",
       "..            ...                 ...  \n",
       "94       2.966667         Love seeker  \n",
       "95       5.300000             FREEDOM  \n",
       "96       3.916667    SWEET NONFICTION  \n",
       "97       3.766667       offering sake  \n",
       "98       2.933333      Lose My Breath  \n",
       "\n",
       "[1885 rows x 4 columns]"
      ]
     },
     "execution_count": 6,
     "metadata": {},
     "output_type": "execute_result"
    }
   ],
   "source": [
    "agg_df"
   ]
  },
  {
   "cell_type": "code",
   "execution_count": 7,
   "id": "a7fb93f1-0884-4dfb-89ec-c59643a034d6",
   "metadata": {},
   "outputs": [],
   "source": [
    "old_master_df = pd.read_csv(\"/Users/tariromashongamhende/Documents/ml_projects/psil/github_artefacts/playlist_links_rehoboam_links_master.csv\")"
   ]
  },
  {
   "cell_type": "code",
   "execution_count": 11,
   "id": "b96c7ee4-a6d3-4756-b63e-1c5f5d821980",
   "metadata": {},
   "outputs": [],
   "source": [
    "output_df = pd.concat([agg_df,old_master_df]).reset_index().drop(columns=\"index\").drop_duplicates(\"song_name\")"
   ]
  },
  {
   "cell_type": "code",
   "execution_count": 12,
   "id": "d57ab915-3983-4a00-94a0-b0a59af7be7a",
   "metadata": {},
   "outputs": [],
   "source": [
    "output_df.to_csv(\"/Users/tariromashongamhende/Documents/ml_projects/psil/github_artefacts/new_june_master_playlist_links_rehoboam_links_master.csv\")"
   ]
  },
  {
   "cell_type": "code",
   "execution_count": null,
   "id": "30f25c7a-4646-4e4b-be3b-23d52f102f1d",
   "metadata": {},
   "outputs": [],
   "source": []
  }
 ],
 "metadata": {
  "kernelspec": {
   "display_name": "Python 3 (ipykernel)",
   "language": "python",
   "name": "python3"
  },
  "language_info": {
   "codemirror_mode": {
    "name": "ipython",
    "version": 3
   },
   "file_extension": ".py",
   "mimetype": "text/x-python",
   "name": "python",
   "nbconvert_exporter": "python",
   "pygments_lexer": "ipython3",
   "version": "3.10.14"
  }
 },
 "nbformat": 4,
 "nbformat_minor": 5
}
